{
 "cells": [
  {
   "cell_type": "code",
   "execution_count": 14,
   "metadata": {},
   "outputs": [
    {
     "name": "stdout",
     "output_type": "stream",
     "text": [
      "2030,2065,2100,2135,2170,2205,2240,2275,2310,2345,2380,2415,2450,2485,2520,2555,2590,2625,2660,2695,2730,2765,2800,2835,2870,2905,2940,2975,3010,3045,3080,3115,3150,3185,3220,3255,3290\n"
     ]
    }
   ],
   "source": [
    "#Write a program which will find all such numbers which are divisible by 7 but are not a multiple\n",
    "#of 5, between 2000 and 3200 (both included). The numbers obtained should be printed in a\n",
    "#comma-separated sequence on a single line.\n",
    "\n",
    "li=[]\n",
    "for i in range(2000,3300):\n",
    "    if (i%5==0) and (i%7==0):\n",
    "        li.append(str(i))\n",
    "print(','.join(li))  \n"
   ]
  },
  {
   "cell_type": "code",
   "execution_count": 15,
   "metadata": {},
   "outputs": [
    {
     "name": "stdout",
     "output_type": "stream",
     "text": [
      "enter firstname sandy\n",
      "enter lastname daa\n",
      "daa sandy\n"
     ]
    }
   ],
   "source": [
    "#Write a Python program to accept the user's first and last name and then getting them printed in\n",
    "#the the reverse order with a space between first name and last name.\n",
    "\n",
    "first = input(\"enter firstname \")\n",
    "last  = input(\"enter lastname \")\n",
    "print (last + \" \" + first)"
   ]
  },
  {
   "cell_type": "code",
   "execution_count": 19,
   "metadata": {},
   "outputs": [
    {
     "name": "stdout",
     "output_type": "stream",
     "text": [
      "904.7786842338603\n"
     ]
    }
   ],
   "source": [
    "#Write a Python program to find the volume of a sphere with diameter 12 cm.\n",
    "#Formula: V=4/3 * π * r 3\n",
    "pi = 3.1415926535897931\n",
    "d = 12\n",
    "r= float(12/2)\n",
    "v = 4.0/3.0*pi* r**3\n",
    "print (v)"
   ]
  },
  {
   "cell_type": "code",
   "execution_count": 20,
   "metadata": {},
   "outputs": [
    {
     "name": "stdout",
     "output_type": "stream",
     "text": [
      "enter numbers with comma seperated numbers:1,2,3,4,5\n",
      "['1', '2', '3', '4', '5']\n"
     ]
    }
   ],
   "source": [
    "#Write a program which accepts a sequence of comma-separated numbers from console and\n",
    "#generate a list.\n",
    "num = input(\"enter numbers with comma seperated numbers:\")\n",
    "list = num.split(\",\")\n",
    "print (list)"
   ]
  },
  {
   "cell_type": "code",
   "execution_count": null,
   "metadata": {},
   "outputs": [],
   "source": [
    "#Create the below pattern ***** using nested for loop in Python.\n",
    "n=5;\n",
    "for i in range(n):\n",
    "    for j in range(i):\n",
    "        print ('* ', end=\"\")\n",
    "    print('')\n",
    "\n",
    "for i in range(n,0,-1):\n",
    "    for j in range(i):\n",
    "        print('* ', end=\"\")\n",
    "    print('')"
   ]
  },
  {
   "cell_type": "code",
   "execution_count": null,
   "metadata": {},
   "outputs": [],
   "source": [
    "#Write a Python program to reverse a word after accepting the input from the user.\n",
    "word = input(\"enter a word to make it reverse:\")\n",
    "for i in range(len(word)-1, -1,-1):\n",
    "# to display word in one line \n",
    "  print(word[i], end=\"\")"
   ]
  },
  {
   "cell_type": "code",
   "execution_count": 1,
   "metadata": {},
   "outputs": [
    {
     "name": "stdout",
     "output_type": "stream",
     "text": [
      "WE, THE PEOPLE OF INDIA,\n",
      "\thaving solemnly resolved to constitute India into a SOVEREIGN,!\n",
      "\t\tSOCIALIST, SECULAR, DEMOCRATIC REPUBLIC\n",
      "\t\tand to secure to all its citizens:\n"
     ]
    }
   ],
   "source": [
    "#Write a Python Program to print the given string in the format specified in the sample output.\n",
    "string = \"WE, THE PEOPLE OF INDIA,{}having solemnly resolved to constitute India into a SOVEREIGN,{}SOCIALIST, SECULAR, DEMOCRATIC REPUBLIC{}and to secure to all its citizens{}\"\n",
    "print(string.format('\\n\\t','!\\n\\t\\t','\\n\\t\\t',':'))\n"
   ]
  }
 ],
 "metadata": {
  "kernelspec": {
   "display_name": "Python 3",
   "language": "python",
   "name": "python3"
  },
  "language_info": {
   "codemirror_mode": {
    "name": "ipython",
    "version": 3
   },
   "file_extension": ".py",
   "mimetype": "text/x-python",
   "name": "python",
   "nbconvert_exporter": "python",
   "pygments_lexer": "ipython3",
   "version": "3.7.6"
  }
 },
 "nbformat": 4,
 "nbformat_minor": 4
}
